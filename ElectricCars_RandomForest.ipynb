{
  "nbformat": 4,
  "nbformat_minor": 0,
  "metadata": {
    "colab": {
      "provenance": [],
      "authorship_tag": "ABX9TyOPYz6D6ENieU/8vAHBL5sO",
      "include_colab_link": true
    },
    "kernelspec": {
      "name": "python3",
      "display_name": "Python 3"
    },
    "language_info": {
      "name": "python"
    }
  },
  "cells": [
    {
      "cell_type": "markdown",
      "metadata": {
        "id": "view-in-github",
        "colab_type": "text"
      },
      "source": [
        "<a href=\"https://colab.research.google.com/github/sivasaikiranakula/projects/blob/main/ElectricCars_RandomForest.ipynb\" target=\"_parent\"><img src=\"https://colab.research.google.com/assets/colab-badge.svg\" alt=\"Open In Colab\"/></a>"
      ]
    },
    {
      "cell_type": "code",
      "execution_count": null,
      "metadata": {
        "id": "s5mAj0ie9igA"
      },
      "outputs": [],
      "source": [
        "import pandas as pd\n",
        "from sklearn.model_selection import train_test_split\n",
        "from sklearn.ensemble import RandomForestClassifier\n",
        "from sklearn.metrics import accuracy_score, classification_report\n"
      ]
    },
    {
      "cell_type": "code",
      "source": [
        "df = pd.read_csv(\"cleaned_Electric_Vehicle_Population_Data.csv\")"
      ],
      "metadata": {
        "id": "YWGvKmSr9rNn"
      },
      "execution_count": null,
      "outputs": []
    },
    {
      "cell_type": "code",
      "source": [
        "X = df.drop(columns=['Model Year'])\n",
        "y = df['Base MSRP']"
      ],
      "metadata": {
        "id": "6h6QjV319xuM"
      },
      "execution_count": null,
      "outputs": []
    },
    {
      "cell_type": "code",
      "source": [
        "X_train, X_test, y_train, y_test = train_test_split(X, y, test_size=0.2, random_state=42)"
      ],
      "metadata": {
        "id": "-fjOaveE9ykk"
      },
      "execution_count": null,
      "outputs": []
    },
    {
      "cell_type": "code",
      "source": [
        "rf_classifier = RandomForestClassifier(n_estimators=100, random_state=42)"
      ],
      "metadata": {
        "id": "FeWIBfRx92Js"
      },
      "execution_count": null,
      "outputs": []
    },
    {
      "cell_type": "code",
      "source": [
        "# Perform one-hot encoding for categorical variables\n",
        "X_encoded = pd.get_dummies(X, drop_first=True)\n",
        "\n",
        "# Split the data into training and testing sets\n",
        "X_train_encoded, X_test_encoded, y_train, y_test = train_test_split(X_encoded, y, test_size=0.2, random_state=42)\n",
        "\n",
        "# Initialize Random Forest classifier\n",
        "rf_classifier = RandomForestClassifier(n_estimators=100, random_state=42)\n",
        "\n",
        "# Train the classifier\n",
        "rf_classifier.fit(X_train_encoded, y_train)\n",
        "\n",
        "# Predictions on the test set\n",
        "y_pred = rf_classifier.predict(X_test_encoded)\n",
        "\n",
        "# Evaluate model performance\n",
        "accuracy = accuracy_score(y_test, y_pred)\n",
        "print(\"Accuracy:\", accuracy)\n",
        "\n",
        "# Print classification report\n",
        "print(classification_report(y_test, y_pred))\n"
      ],
      "metadata": {
        "colab": {
          "base_uri": "https://localhost:8080/"
        },
        "id": "4kp_y4H--Fjn",
        "outputId": "42aaa30d-c441-459b-901a-63d0fc76db30"
      },
      "execution_count": null,
      "outputs": [
        {
          "output_type": "stream",
          "name": "stdout",
          "text": [
            "Accuracy: 0.9880059970014993\n",
            "              precision    recall  f1-score   support\n",
            "\n",
            "       31950       1.00      1.00      1.00        74\n",
            "       32250       1.00      1.00      1.00        27\n",
            "       33950       1.00      1.00      1.00        18\n",
            "       34995       1.00      1.00      1.00         8\n",
            "       36800       1.00      1.00      1.00        14\n",
            "       36900       1.00      1.00      1.00        23\n",
            "       39995       1.00      1.00      1.00        17\n",
            "       43700       0.00      0.00      0.00         0\n",
            "       44100       1.00      0.85      0.92        20\n",
            "       45600       0.90      1.00      0.95        18\n",
            "       52650       1.00      1.00      1.00         8\n",
            "       52900       1.00      1.00      1.00        60\n",
            "       53400       1.00      1.00      1.00        10\n",
            "       54950       0.96      1.00      0.98        23\n",
            "       55700       1.00      0.93      0.97        15\n",
            "       59900       1.00      1.00      1.00        24\n",
            "       64950       1.00      1.00      1.00        21\n",
            "       69900       1.00      1.00      1.00       258\n",
            "       75095       1.00      1.00      1.00         1\n",
            "       81100       1.00      1.00      1.00         6\n",
            "       89100       0.00      0.00      0.00         1\n",
            "       90700       0.75      1.00      0.86         3\n",
            "       91250       0.00      0.00      0.00         1\n",
            "       98950       1.00      1.00      1.00         5\n",
            "      102000       1.00      1.00      1.00         3\n",
            "      109000       1.00      0.33      0.50         3\n",
            "      110950       0.71      1.00      0.83         5\n",
            "      184400       1.00      1.00      1.00         1\n",
            "\n",
            "    accuracy                           0.99       667\n",
            "   macro avg       0.87      0.86      0.86       667\n",
            "weighted avg       0.99      0.99      0.99       667\n",
            "\n"
          ]
        },
        {
          "output_type": "stream",
          "name": "stderr",
          "text": [
            "/usr/local/lib/python3.10/dist-packages/sklearn/metrics/_classification.py:1344: UndefinedMetricWarning: Precision and F-score are ill-defined and being set to 0.0 in labels with no predicted samples. Use `zero_division` parameter to control this behavior.\n",
            "  _warn_prf(average, modifier, msg_start, len(result))\n",
            "/usr/local/lib/python3.10/dist-packages/sklearn/metrics/_classification.py:1344: UndefinedMetricWarning: Recall and F-score are ill-defined and being set to 0.0 in labels with no true samples. Use `zero_division` parameter to control this behavior.\n",
            "  _warn_prf(average, modifier, msg_start, len(result))\n",
            "/usr/local/lib/python3.10/dist-packages/sklearn/metrics/_classification.py:1344: UndefinedMetricWarning: Precision and F-score are ill-defined and being set to 0.0 in labels with no predicted samples. Use `zero_division` parameter to control this behavior.\n",
            "  _warn_prf(average, modifier, msg_start, len(result))\n",
            "/usr/local/lib/python3.10/dist-packages/sklearn/metrics/_classification.py:1344: UndefinedMetricWarning: Recall and F-score are ill-defined and being set to 0.0 in labels with no true samples. Use `zero_division` parameter to control this behavior.\n",
            "  _warn_prf(average, modifier, msg_start, len(result))\n",
            "/usr/local/lib/python3.10/dist-packages/sklearn/metrics/_classification.py:1344: UndefinedMetricWarning: Precision and F-score are ill-defined and being set to 0.0 in labels with no predicted samples. Use `zero_division` parameter to control this behavior.\n",
            "  _warn_prf(average, modifier, msg_start, len(result))\n",
            "/usr/local/lib/python3.10/dist-packages/sklearn/metrics/_classification.py:1344: UndefinedMetricWarning: Recall and F-score are ill-defined and being set to 0.0 in labels with no true samples. Use `zero_division` parameter to control this behavior.\n",
            "  _warn_prf(average, modifier, msg_start, len(result))\n"
          ]
        }
      ]
    },
    {
      "cell_type": "code",
      "source": [
        "precision = precision_score(y_test, y_pred, average=None)\n",
        "print(\"Precision for Class 0:\", precision[0])  # Precision for class 0\n",
        "print(\"Precision for Class 1:\", precision[1])  # Precision for class 1"
      ],
      "metadata": {
        "colab": {
          "base_uri": "https://localhost:8080/"
        },
        "id": "vJBgrPWscbNz",
        "outputId": "fe8dddc9-5798-4c95-e197-4bc3864850c0"
      },
      "execution_count": null,
      "outputs": [
        {
          "output_type": "stream",
          "name": "stdout",
          "text": [
            "Precision for Class 0: 1.0\n",
            "Precision for Class 1: 1.0\n"
          ]
        },
        {
          "output_type": "stream",
          "name": "stderr",
          "text": [
            "/usr/local/lib/python3.10/dist-packages/sklearn/metrics/_classification.py:1344: UndefinedMetricWarning: Precision is ill-defined and being set to 0.0 in labels with no predicted samples. Use `zero_division` parameter to control this behavior.\n",
            "  _warn_prf(average, modifier, msg_start, len(result))\n"
          ]
        }
      ]
    },
    {
      "cell_type": "code",
      "source": [
        "from sklearn.metrics import precision_score\n",
        "\n",
        "precision = precision_score(y_test, y_pred, average=None)\n",
        "print(\"Precision for Class 0:\", precision[0])  # Precision for class 0\n",
        "print(\"Precision for Class 1:\", precision[1])  # Precision for class 1\n"
      ],
      "metadata": {
        "colab": {
          "base_uri": "https://localhost:8080/"
        },
        "id": "_esiWT5Ur_Bl",
        "outputId": "c1fbcd62-b769-4d54-8b03-31dd6fb7cac9"
      },
      "execution_count": null,
      "outputs": [
        {
          "output_type": "stream",
          "name": "stdout",
          "text": [
            "Precision for Class 0: 1.0\n",
            "Precision for Class 1: 1.0\n"
          ]
        },
        {
          "output_type": "stream",
          "name": "stderr",
          "text": [
            "/usr/local/lib/python3.10/dist-packages/sklearn/metrics/_classification.py:1344: UndefinedMetricWarning: Precision is ill-defined and being set to 0.0 in labels with no predicted samples. Use `zero_division` parameter to control this behavior.\n",
            "  _warn_prf(average, modifier, msg_start, len(result))\n"
          ]
        }
      ]
    },
    {
      "cell_type": "code",
      "source": [
        "from sklearn.metrics import classification_report, mean_squared_error\n",
        "\n",
        "# Calculate recall and F1 score\n",
        "report = classification_report(y_test, y_pred)\n",
        "print(\"Classification Report:\")\n",
        "print(report)\n",
        "\n",
        "# Calculate Mean Squared Error\n",
        "mse = mean_squared_error(y_test, y_pred)\n",
        "print(\"Mean Squared Error:\", mse)\n"
      ],
      "metadata": {
        "colab": {
          "base_uri": "https://localhost:8080/"
        },
        "id": "rpiO2qrGuALa",
        "outputId": "00587fed-b771-4d3e-a548-d690681223a7"
      },
      "execution_count": null,
      "outputs": [
        {
          "output_type": "stream",
          "name": "stdout",
          "text": [
            "Classification Report:\n",
            "              precision    recall  f1-score   support\n",
            "\n",
            "       31950       1.00      1.00      1.00        74\n",
            "       32250       1.00      1.00      1.00        27\n",
            "       33950       1.00      1.00      1.00        18\n",
            "       34995       1.00      1.00      1.00         8\n",
            "       36800       1.00      1.00      1.00        14\n",
            "       36900       1.00      1.00      1.00        23\n",
            "       39995       1.00      1.00      1.00        17\n",
            "       43700       0.00      0.00      0.00         0\n",
            "       44100       1.00      0.85      0.92        20\n",
            "       45600       0.90      1.00      0.95        18\n",
            "       52650       1.00      1.00      1.00         8\n",
            "       52900       1.00      1.00      1.00        60\n",
            "       53400       1.00      1.00      1.00        10\n",
            "       54950       0.96      1.00      0.98        23\n",
            "       55700       1.00      0.93      0.97        15\n",
            "       59900       1.00      1.00      1.00        24\n",
            "       64950       1.00      1.00      1.00        21\n",
            "       69900       1.00      1.00      1.00       258\n",
            "       75095       1.00      1.00      1.00         1\n",
            "       81100       1.00      1.00      1.00         6\n",
            "       89100       0.00      0.00      0.00         1\n",
            "       90700       0.75      1.00      0.86         3\n",
            "       91250       0.00      0.00      0.00         1\n",
            "       98950       1.00      1.00      1.00         5\n",
            "      102000       1.00      1.00      1.00         3\n",
            "      109000       1.00      0.33      0.50         3\n",
            "      110950       0.71      1.00      0.83         5\n",
            "      184400       1.00      1.00      1.00         1\n",
            "\n",
            "    accuracy                           0.99       667\n",
            "   macro avg       0.87      0.86      0.86       667\n",
            "weighted avg       0.99      0.99      0.99       667\n",
            "\n",
            "Mean Squared Error: 26615.44227886057\n"
          ]
        },
        {
          "output_type": "stream",
          "name": "stderr",
          "text": [
            "/usr/local/lib/python3.10/dist-packages/sklearn/metrics/_classification.py:1344: UndefinedMetricWarning: Precision and F-score are ill-defined and being set to 0.0 in labels with no predicted samples. Use `zero_division` parameter to control this behavior.\n",
            "  _warn_prf(average, modifier, msg_start, len(result))\n",
            "/usr/local/lib/python3.10/dist-packages/sklearn/metrics/_classification.py:1344: UndefinedMetricWarning: Recall and F-score are ill-defined and being set to 0.0 in labels with no true samples. Use `zero_division` parameter to control this behavior.\n",
            "  _warn_prf(average, modifier, msg_start, len(result))\n",
            "/usr/local/lib/python3.10/dist-packages/sklearn/metrics/_classification.py:1344: UndefinedMetricWarning: Precision and F-score are ill-defined and being set to 0.0 in labels with no predicted samples. Use `zero_division` parameter to control this behavior.\n",
            "  _warn_prf(average, modifier, msg_start, len(result))\n",
            "/usr/local/lib/python3.10/dist-packages/sklearn/metrics/_classification.py:1344: UndefinedMetricWarning: Recall and F-score are ill-defined and being set to 0.0 in labels with no true samples. Use `zero_division` parameter to control this behavior.\n",
            "  _warn_prf(average, modifier, msg_start, len(result))\n",
            "/usr/local/lib/python3.10/dist-packages/sklearn/metrics/_classification.py:1344: UndefinedMetricWarning: Precision and F-score are ill-defined and being set to 0.0 in labels with no predicted samples. Use `zero_division` parameter to control this behavior.\n",
            "  _warn_prf(average, modifier, msg_start, len(result))\n",
            "/usr/local/lib/python3.10/dist-packages/sklearn/metrics/_classification.py:1344: UndefinedMetricWarning: Recall and F-score are ill-defined and being set to 0.0 in labels with no true samples. Use `zero_division` parameter to control this behavior.\n",
            "  _warn_prf(average, modifier, msg_start, len(result))\n"
          ]
        }
      ]
    },
    {
      "cell_type": "code",
      "source": [
        "from sklearn.metrics import precision_recall_fscore_support\n",
        "\n",
        "# Calculate precision, recall, f1-score, and support for each class\n",
        "precision, recall, f1_score, support = precision_recall_fscore_support(y_test, y_pred, average='weighted')\n",
        "\n",
        "# Print summary metrics\n",
        "print(\"Precision (weighted average):\", precision)\n",
        "print(\"Recall (weighted average):\", recall)\n",
        "print(\"F1-score (weighted average):\", f1_score)\n"
      ],
      "metadata": {
        "colab": {
          "base_uri": "https://localhost:8080/"
        },
        "id": "2F2bUg8RuQOY",
        "outputId": "83f7b8a6-057f-4e26-b4cc-d4f54bbb74d1"
      },
      "execution_count": null,
      "outputs": [
        {
          "output_type": "stream",
          "name": "stdout",
          "text": [
            "Precision (weighted average): 0.9895998429356752\n",
            "Recall (weighted average): 0.9880059970014993\n",
            "F1-score (weighted average): 0.9875000031693898\n"
          ]
        },
        {
          "output_type": "stream",
          "name": "stderr",
          "text": [
            "/usr/local/lib/python3.10/dist-packages/sklearn/metrics/_classification.py:1344: UndefinedMetricWarning: Precision and F-score are ill-defined and being set to 0.0 in labels with no predicted samples. Use `zero_division` parameter to control this behavior.\n",
            "  _warn_prf(average, modifier, msg_start, len(result))\n",
            "/usr/local/lib/python3.10/dist-packages/sklearn/metrics/_classification.py:1344: UndefinedMetricWarning: Recall and F-score are ill-defined and being set to 0.0 in labels with no true samples. Use `zero_division` parameter to control this behavior.\n",
            "  _warn_prf(average, modifier, msg_start, len(result))\n"
          ]
        }
      ]
    }
  ]
}