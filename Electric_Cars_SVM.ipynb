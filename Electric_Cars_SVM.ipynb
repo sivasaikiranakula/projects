{
  "nbformat": 4,
  "nbformat_minor": 0,
  "metadata": {
    "colab": {
      "provenance": [],
      "include_colab_link": true
    },
    "kernelspec": {
      "name": "python3",
      "display_name": "Python 3"
    },
    "language_info": {
      "name": "python"
    }
  },
  "cells": [
    {
      "cell_type": "markdown",
      "metadata": {
        "id": "view-in-github",
        "colab_type": "text"
      },
      "source": [
        "<a href=\"https://colab.research.google.com/github/sivasaikiranakula/projects/blob/main/Electric_Cars_SVM.ipynb\" target=\"_parent\"><img src=\"https://colab.research.google.com/assets/colab-badge.svg\" alt=\"Open In Colab\"/></a>"
      ]
    },
    {
      "cell_type": "code",
      "execution_count": null,
      "metadata": {
        "id": "reMDb6zs_1da"
      },
      "outputs": [],
      "source": [
        "import pandas as pd\n",
        "from sklearn.model_selection import train_test_split\n",
        "from sklearn.preprocessing import LabelEncoder, StandardScaler\n",
        "from sklearn.svm import SVC\n",
        "from sklearn.metrics import classification_report, accuracy_score\n",
        "\n",
        "\n",
        "df = pd.read_csv(\"cleaned_Electric_Vehicle_Population_Data.csv\")\n",
        "\n",
        "\n",
        "X = df.drop(columns=['Electric Vehicle Type'])\n",
        "y = df['Base MSRP']\n",
        "\n",
        "\n",
        "label_encoders = {}\n",
        "for column in X.select_dtypes(include=['object']).columns:\n",
        "    label_encoders[column] = LabelEncoder()\n",
        "    X[column] = label_encoders[column].fit_transform(X[column])\n",
        "\n",
        "\n",
        "X_train, X_test, y_train, y_test = train_test_split(X, y, test_size=0.2, random_state=42)\n",
        "\n",
        "\n",
        "scaler = StandardScaler()\n",
        "X_train_scaled = scaler.fit_transform(X_train)\n",
        "X_test_scaled = scaler.transform(X_test)\n",
        "\n",
        "\n",
        "svm_classifier = SVC(kernel='linear')\n",
        "\n",
        "# Train the classifier\n",
        "svm_classifier.fit(X_train_scaled, y_train)\n",
        "\n",
        "# Make predictions on the testing set\n",
        "y_pred = svm_classifier.predict(X_test_scaled)\n",
        "\n",
        "# Evaluate the model\n",
        "#accuracy = accuracy_score(y_test, y_pred)\n",
        "#print(\"Accuracy:\", accuracy)\n",
        "#print(\"Classification Report:\")\n",
        "#print(classification_report(y_test, y_pred))\n"
      ]
    },
    {
      "cell_type": "code",
      "source": [
        "from sklearn.metrics import precision_recall_fscore_support\n",
        "\n",
        "precision, recall, f1, _ = precision_recall_fscore_support(y_test, y_pred, average='weighted')\n",
        "print(\"Precision:\", precision)\n",
        "print(\"Recall:\", recall)\n",
        "print(\"F1 Score:\", f1)\n"
      ],
      "metadata": {
        "colab": {
          "base_uri": "https://localhost:8080/"
        },
        "id": "iAmglgRGvcrG",
        "outputId": "6c1f7a7e-d2e9-4886-dd97-f53fa2a31217"
      },
      "execution_count": null,
      "outputs": [
        {
          "output_type": "stream",
          "name": "stdout",
          "text": [
            "Precision: 0.9451866808531217\n",
            "Recall: 0.967016491754123\n",
            "F1 Score: 0.9539133058623313\n"
          ]
        },
        {
          "output_type": "stream",
          "name": "stderr",
          "text": [
            "/usr/local/lib/python3.10/dist-packages/sklearn/metrics/_classification.py:1344: UndefinedMetricWarning: Precision and F-score are ill-defined and being set to 0.0 in labels with no predicted samples. Use `zero_division` parameter to control this behavior.\n",
            "  _warn_prf(average, modifier, msg_start, len(result))\n"
          ]
        }
      ]
    }
  ]
}